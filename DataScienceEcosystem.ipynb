{
 "cells": [
  {
   "cell_type": "markdown",
   "id": "d5e19caf",
   "metadata": {},
   "source": [
    "\n",
    "# Data Science Tools and Ecosystem\n"
   ]
  },
  {
   "cell_type": "markdown",
   "id": "38de691e",
   "metadata": {},
   "source": [
    "In this notebook, Data Science Tools and Ecosystem are summarized.\n"
   ]
  },
  {
   "cell_type": "markdown",
   "id": "b7841e15",
   "metadata": {},
   "source": [
    "Some of the popular languages that Data Scientists use are:"
   ]
  },
  {
   "cell_type": "markdown",
   "id": "ecd834e8",
   "metadata": {},
   "source": [
    " - Python\n",
    "\n",
    " - R\n",
    "\n",
    " - C++"
   ]
  },
  {
   "cell_type": "markdown",
   "id": "5e82b837",
   "metadata": {},
   "source": [
    "Some of the commonly used libraries used by Data Scientists include:\n",
    "\n",
    "- NumPy \n",
    "\n",
    "- Pandas\n",
    "\n",
    "- Matplotlib\n"
   ]
  },
  {
   "cell_type": "markdown",
   "id": "676ecc6b",
   "metadata": {},
   "source": [
    "| Data Science Tools |\n",
    "|:------------------:|\n"
   ]
  },
  {
   "cell_type": "markdown",
   "id": "315dd860",
   "metadata": {},
   "source": [
    "### Below are a few examples of evaluating arithmetic expressions in Python"
   ]
  },
  {
   "cell_type": "markdown",
   "id": "622b99f9",
   "metadata": {},
   "source": [
    "This a simple arithmetic expression to mutiply then add integers."
   ]
  },
  {
   "cell_type": "code",
   "execution_count": 3,
   "id": "bd224986",
   "metadata": {},
   "outputs": [
    {
     "data": {
      "text/plain": [
       "17"
      ]
     },
     "execution_count": 3,
     "metadata": {},
     "output_type": "execute_result"
    }
   ],
   "source": [
    "(3*4)+5"
   ]
  },
  {
   "cell_type": "markdown",
   "id": "48d7b6f7",
   "metadata": {},
   "source": [
    "This will convert 200 minutes to hours by diving by 60\n"
   ]
  },
  {
   "cell_type": "code",
   "execution_count": 6,
   "id": "7a6bb12a",
   "metadata": {},
   "outputs": [
    {
     "name": "stdout",
     "output_type": "stream",
     "text": [
      "Hours = 3.3333333333333335\n"
     ]
    }
   ],
   "source": [
    "h=200/60\n",
    "print(\"Hours =\",h)\n"
   ]
  },
  {
   "cell_type": "markdown",
   "id": "9c20f4cc",
   "metadata": {},
   "source": [
    "## Author \n",
    "## Markellos\n"
   ]
  },
  {
   "cell_type": "code",
   "execution_count": null,
   "id": "d2699c9b",
   "metadata": {},
   "outputs": [],
   "source": []
  }
 ],
 "metadata": {
  "kernelspec": {
   "display_name": "Python 3 (ipykernel)",
   "language": "python",
   "name": "python3"
  },
  "language_info": {
   "codemirror_mode": {
    "name": "ipython",
    "version": 3
   },
   "file_extension": ".py",
   "mimetype": "text/x-python",
   "name": "python",
   "nbconvert_exporter": "python",
   "pygments_lexer": "ipython3",
   "version": "3.11.4"
  }
 },
 "nbformat": 4,
 "nbformat_minor": 5
}
